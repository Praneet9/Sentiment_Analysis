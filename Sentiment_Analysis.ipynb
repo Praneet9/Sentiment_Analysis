{
 "cells": [
  {
   "cell_type": "code",
   "execution_count": 1,
   "metadata": {
    "ExecuteTime": {
     "end_time": "2019-05-11T04:57:55.441246Z",
     "start_time": "2019-05-11T04:57:54.187903Z"
    }
   },
   "outputs": [
    {
     "name": "stderr",
     "output_type": "stream",
     "text": [
      "Using TensorFlow backend.\n"
     ]
    }
   ],
   "source": [
    "from keras.preprocessing import sequence\n",
    "from keras.models import Sequential\n",
    "from keras.layers import Dense, Embedding, CuDNNLSTM, Dense, Dropout\n",
    "from keras.optimizers import Adam\n",
    "from keras.callbacks import TensorBoard, ModelCheckpoint\n",
    "from keras.datasets import imdb"
   ]
  },
  {
   "cell_type": "code",
   "execution_count": 2,
   "metadata": {
    "ExecuteTime": {
     "end_time": "2019-05-11T04:57:55.568009Z",
     "start_time": "2019-05-11T04:57:55.565630Z"
    }
   },
   "outputs": [],
   "source": [
    "EPOCHS = 10\n",
    "BATCH_SIZE = 64\n",
    "NAME = 'LSTM-EPOCHS-10'"
   ]
  },
  {
   "cell_type": "code",
   "execution_count": 3,
   "metadata": {
    "ExecuteTime": {
     "end_time": "2019-05-11T04:57:59.894707Z",
     "start_time": "2019-05-11T04:57:55.687888Z"
    }
   },
   "outputs": [],
   "source": [
    "(x_train, y_train), (x_test, y_test) = imdb.load_data(num_words=20000)"
   ]
  },
  {
   "cell_type": "code",
   "execution_count": 4,
   "metadata": {
    "ExecuteTime": {
     "end_time": "2019-05-11T04:58:00.951706Z",
     "start_time": "2019-05-11T04:58:00.026463Z"
    }
   },
   "outputs": [],
   "source": [
    "x_train = sequence.pad_sequences(x_train, maxlen=200)\n",
    "x_test = sequence.pad_sequences(x_test, maxlen=200)"
   ]
  },
  {
   "cell_type": "code",
   "execution_count": 5,
   "metadata": {
    "ExecuteTime": {
     "end_time": "2019-05-11T04:58:07.135082Z",
     "start_time": "2019-05-11T04:58:01.090293Z"
    }
   },
   "outputs": [
    {
     "name": "stdout",
     "output_type": "stream",
     "text": [
      "_________________________________________________________________\n",
      "Layer (type)                 Output Shape              Param #   \n",
      "=================================================================\n",
      "embedding_1 (Embedding)      (None, 200, 256)          5120000   \n",
      "_________________________________________________________________\n",
      "cu_dnnlstm_1 (CuDNNLSTM)     (None, 200, 256)          526336    \n",
      "_________________________________________________________________\n",
      "dropout_1 (Dropout)          (None, 200, 256)          0         \n",
      "_________________________________________________________________\n",
      "cu_dnnlstm_2 (CuDNNLSTM)     (None, 200, 128)          197632    \n",
      "_________________________________________________________________\n",
      "dropout_2 (Dropout)          (None, 200, 128)          0         \n",
      "_________________________________________________________________\n",
      "cu_dnnlstm_3 (CuDNNLSTM)     (None, 64)                49664     \n",
      "_________________________________________________________________\n",
      "dropout_3 (Dropout)          (None, 64)                0         \n",
      "_________________________________________________________________\n",
      "dense_1 (Dense)              (None, 64)                4160      \n",
      "_________________________________________________________________\n",
      "dropout_4 (Dropout)          (None, 64)                0         \n",
      "_________________________________________________________________\n",
      "dense_2 (Dense)              (None, 16)                1040      \n",
      "_________________________________________________________________\n",
      "dropout_5 (Dropout)          (None, 16)                0         \n",
      "_________________________________________________________________\n",
      "dense_3 (Dense)              (None, 1)                 17        \n",
      "=================================================================\n",
      "Total params: 5,898,849\n",
      "Trainable params: 5,898,849\n",
      "Non-trainable params: 0\n",
      "_________________________________________________________________\n"
     ]
    }
   ],
   "source": [
    "model = Sequential()\n",
    "\n",
    "model.add(Embedding(20000, 256, input_length=200))\n",
    "\n",
    "model.add(CuDNNLSTM(256, return_sequences=True))\n",
    "model.add(Dropout(0.6))\n",
    "\n",
    "model.add(CuDNNLSTM(128, return_sequences=True))\n",
    "model.add(Dropout(0.6))\n",
    "\n",
    "model.add(CuDNNLSTM(64, return_sequences=False))\n",
    "model.add(Dropout(0.6))\n",
    "\n",
    "model.add(Dense(64, activation='relu'))\n",
    "model.add(Dropout(0.5))\n",
    "\n",
    "model.add(Dense(16, activation='relu'))\n",
    "model.add(Dropout(0.5))\n",
    "\n",
    "model.add(Dense(1, activation='sigmoid'))\n",
    "\n",
    "model.compile(loss='binary_crossentropy', optimizer = Adam(lr=0.0001, decay=1e-6), metrics=['accuracy'])\n",
    "\n",
    "tensorboard = TensorBoard(log_dir = 'logs/' + NAME)\n",
    "\n",
    "filepath = 'LSTM_Final'\n",
    "checkpoint = ModelCheckpoint('models/{}.hdf5'.format(filepath, monitor='val_acc',\n",
    "                                                      verbose=1,\n",
    "                                                      save_best_only = True,\n",
    "                                                      mode = 'max'))\n",
    "\n",
    "model.summary()"
   ]
  },
  {
   "cell_type": "code",
   "execution_count": 6,
   "metadata": {
    "ExecuteTime": {
     "end_time": "2019-05-11T05:40:17.888949Z",
     "start_time": "2019-05-11T04:58:07.306204Z"
    }
   },
   "outputs": [
    {
     "name": "stdout",
     "output_type": "stream",
     "text": [
      "Train on 25000 samples, validate on 25000 samples\n",
      "Epoch 1/10\n",
      "25000/25000 [==============================] - 273s 11ms/step - loss: 0.6597 - acc: 0.5766 - val_loss: 0.4443 - val_acc: 0.7963\n",
      "Epoch 2/10\n",
      "25000/25000 [==============================] - 253s 10ms/step - loss: 0.3953 - acc: 0.8465 - val_loss: 0.3230 - val_acc: 0.8635\n",
      "Epoch 3/10\n",
      "25000/25000 [==============================] - 262s 10ms/step - loss: 0.2719 - acc: 0.9109 - val_loss: 0.3461 - val_acc: 0.8641\n",
      "Epoch 4/10\n",
      "25000/25000 [==============================] - 265s 11ms/step - loss: 0.2061 - acc: 0.9374 - val_loss: 0.4447 - val_acc: 0.8577\n",
      "Epoch 5/10\n",
      "25000/25000 [==============================] - 267s 11ms/step - loss: 0.1611 - acc: 0.9563 - val_loss: 0.4028 - val_acc: 0.8553\n",
      "Epoch 6/10\n",
      "25000/25000 [==============================] - 277s 11ms/step - loss: 0.1280 - acc: 0.9662 - val_loss: 0.5951 - val_acc: 0.8508\n",
      "Epoch 7/10\n",
      "25000/25000 [==============================] - 217s 9ms/step - loss: 0.0928 - acc: 0.9774 - val_loss: 0.6328 - val_acc: 0.8348\n",
      "Epoch 8/10\n",
      "25000/25000 [==============================] - 222s 9ms/step - loss: 0.0707 - acc: 0.9824 - val_loss: 0.8405 - val_acc: 0.8430\n",
      "Epoch 9/10\n",
      "25000/25000 [==============================] - 271s 11ms/step - loss: 0.0512 - acc: 0.9883 - val_loss: 0.8847 - val_acc: 0.8433\n",
      "Epoch 10/10\n",
      "25000/25000 [==============================] - 219s 9ms/step - loss: 0.0511 - acc: 0.9884 - val_loss: 0.8983 - val_acc: 0.8436\n"
     ]
    }
   ],
   "source": [
    "history = model.fit(x_train, y_train, validation_data=(x_test, y_test), epochs=EPOCHS, batch_size = BATCH_SIZE, verbose=1, callbacks = [tensorboard, checkpoint])"
   ]
  },
  {
   "cell_type": "code",
   "execution_count": 7,
   "metadata": {
    "ExecuteTime": {
     "end_time": "2019-05-11T05:49:21.698373Z",
     "start_time": "2019-05-11T05:49:21.631464Z"
    }
   },
   "outputs": [
    {
     "name": "stdout",
     "output_type": "stream",
     "text": [
      "Saved model to disk\n"
     ]
    }
   ],
   "source": [
    "# serialize model to JSON\n",
    "model_json = model.to_json()\n",
    "with open(\"models/model.json\", \"w\") as json_file:\n",
    "    json_file.write(model_json)\n",
    "# serialize weights to HDF5\n",
    "model.save_weights(\"models/model.h5\")\n",
    "print(\"Saved model to disk\")"
   ]
  },
  {
   "cell_type": "code",
   "execution_count": null,
   "metadata": {},
   "outputs": [],
   "source": []
  },
  {
   "cell_type": "code",
   "execution_count": 7,
   "metadata": {
    "ExecuteTime": {
     "end_time": "2019-05-11T06:37:50.893915Z",
     "start_time": "2019-05-11T06:37:50.725465Z"
    }
   },
   "outputs": [],
   "source": [
    "%matplotlib inline\n",
    "\n",
    "import glob\n",
    "import matplotlib\n",
    "from matplotlib import pyplot as plt\n",
    "import matplotlib.image as mpimg\n",
    "import numpy as np\n",
    "import imageio as im\n",
    "from keras import models\n",
    "from keras.preprocessing import image"
   ]
  },
  {
   "cell_type": "code",
   "execution_count": 9,
   "metadata": {
    "ExecuteTime": {
     "end_time": "2019-05-11T05:50:05.843399Z",
     "start_time": "2019-05-11T05:50:05.424643Z"
    }
   },
   "outputs": [
    {
     "data": {
      "image/png": "[encoded data removed]",
      "text/plain": [
       "<Figure size 432x288 with 1 Axes>"
      ]
     },
     "metadata": {
      "needs_background": "light"
     },
     "output_type": "display_data"
    },
    {
     "data": {
      "image/png": "[encoded data removed]",
      "text/plain": [
       "<Figure size 432x288 with 1 Axes>"
      ]
     },
     "metadata": {
      "needs_background": "light"
     },
     "output_type": "display_data"
    }
   ],
   "source": [
    "# summarize history for accuracy\n",
    "plt.plot(history.history['acc'])\n",
    "plt.plot(history.history['val_acc'])\n",
    "plt.title('model accuracy')\n",
    "plt.ylabel('accuracy')\n",
    "plt.xlabel('epoch')\n",
    "plt.legend(['train', 'test'], loc='upper left')\n",
    "plt.show()\n",
    "# summarize history for loss\n",
    "plt.plot(history.history['loss'])\n",
    "plt.plot(history.history['val_loss'])\n",
    "plt.title('model loss')\n",
    "plt.ylabel('loss')\n",
    "plt.xlabel('epoch')\n",
    "plt.legend(['train', 'test'], loc='upper left')\n",
    "plt.show()"
   ]
  },
  {
   "cell_type": "code",
   "execution_count": 0,
   "metadata": {
    "ExecuteTime": {
     "end_time": "2019-01-05T17:18:40.108191Z",
     "start_time": "2019-01-05T17:18:40.094735Z"
    },
    "colab": {},
    "colab_type": "code",
    "id": "nvE8eiFItw_2"
   },
   "outputs": [],
   "source": [
    "def clean_sentences(df):\n",
    "    reviews = []\n",
    "    \n",
    "    for sent in tqdm(df['Phrase']):\n",
    "        \n",
    "        # removing html content if any\n",
    "        review_text = BeautifulSoup(sent).get_text()\n",
    "        \n",
    "        # removing non alphabetic characters\n",
    "        review_text = re.sub(\"[^A-Za-z]\", \" \", review_text)\n",
    "        \n",
    "        # tokenizing the sentences\n",
    "        words = word_tokenize(review_text.lower())\n",
    "        \n",
    "        # lemmatize each word to its lemma\n",
    "        lemma_words = [lemmatizer.lemmatize(i) for i in words]\n",
    "        \n",
    "        reviews.append(lemma_words)\n",
    "        \n",
    "    return reviews"
   ]
  },
  {
   "cell_type": "code",
   "execution_count": null,
   "metadata": {},
   "outputs": [],
   "source": []
  },
  {
   "cell_type": "code",
   "execution_count": 5,
   "metadata": {
    "ExecuteTime": {
     "end_time": "2019-05-11T06:37:48.203432Z",
     "start_time": "2019-05-11T06:37:48.199770Z"
    }
   },
   "outputs": [],
   "source": [
    "from keras.models import model_from_json"
   ]
  },
  {
   "cell_type": "code",
   "execution_count": 6,
   "metadata": {
    "ExecuteTime": {
     "end_time": "2019-05-11T06:37:49.966258Z",
     "start_time": "2019-05-11T06:37:49.096346Z"
    },
    "scrolled": true
   },
   "outputs": [],
   "source": [
    "json_file = open('models/model.json', 'r')\n",
    "loaded_model_json = json_file.read()\n",
    "json_file.close()\n",
    "model = model_from_json(loaded_model_json)\n",
    "model.load_weights(\"models/aug_model.h5\")"
   ]
  },
  {
   "cell_type": "code",
   "execution_count": 15,
   "metadata": {
    "ExecuteTime": {
     "end_time": "2019-05-11T06:38:50.597729Z",
     "start_time": "2019-05-11T06:38:50.583231Z"
    }
   },
   "outputs": [],
   "source": [
    "import nltk\n",
    "from nltk.tokenize import word_tokenize\n",
    "from nltk.stem import WordNetLemmatizer\n",
    "from bs4 import BeautifulSoup\n",
    "from keras.preprocessing.text import Tokenizer\n",
    "from keras.datasets import imdb\n",
    "from keras.preprocessing import sequence"
   ]
  },
  {
   "cell_type": "code",
   "execution_count": 16,
   "metadata": {
    "ExecuteTime": {
     "end_time": "2019-05-11T06:38:51.330159Z",
     "start_time": "2019-05-11T06:38:51.205699Z"
    }
   },
   "outputs": [],
   "source": [
    "d = imdb.get_word_index()"
   ]
  },
  {
   "cell_type": "code",
   "execution_count": 17,
   "metadata": {
    "ExecuteTime": {
     "end_time": "2019-05-11T06:38:51.569640Z",
     "start_time": "2019-05-11T06:38:51.554852Z"
    }
   },
   "outputs": [],
   "source": [
    "review = '''Obviously lots of battles, but not too gory. There is one scene where a guy gets throat slashed. A little blood but not too bad (not a main character. Some bad words but used comically and again, nothing that bad. Good story. No sexual content. The battle scenes are big, but not bloody and lightened up at times with bits of comedy. A main character does die at the end and it is sad but it's done respectfully and not overly dramatic. I would say 9 or 10 minimum age (if they have already seen avengers movies). 3 hours, but didn't get boring.'''"
   ]
  },
  {
   "cell_type": "markdown",
   "metadata": {},
   "source": [
    "Recall that the Keras format for movie reviews expects all lower-case letters, with all punctuation removed except the single-quote character. The get_word_index() function returns a Python dictionary object that was created from the 25,000-item training data. The dictionary is 1-base indexed and constructed by word frequency. For example, d[\"the\"] = 1, d[\"and\"] = 2.\n",
    "\n",
    "Next, the words in the new review are converted to integer ID values:"
   ]
  },
  {
   "cell_type": "code",
   "execution_count": 18,
   "metadata": {
    "ExecuteTime": {
     "end_time": "2019-05-11T06:38:52.149928Z",
     "start_time": "2019-05-11T06:38:52.138055Z"
    }
   },
   "outputs": [],
   "source": [
    "words = review.split()\n",
    "review = []\n",
    "for word in words:\n",
    "  if word not in d: \n",
    "    review.append(2)\n",
    "  else:\n",
    "    review.append(d[word]+3) "
   ]
  },
  {
   "cell_type": "markdown",
   "metadata": {},
   "source": [
    "Recall that words that are rare (not among the 20,000 most common) or aren't in the training data have a special ID value of 2. Also, each ID is offset by 3 to make room for special values 0, 1, 2 and 3.\n",
    "\n",
    "The demo concludes by truncating/padding the review and computing the predicted sentiment:"
   ]
  },
  {
   "cell_type": "code",
   "execution_count": 19,
   "metadata": {
    "ExecuteTime": {
     "end_time": "2019-05-11T06:38:54.855401Z",
     "start_time": "2019-05-11T06:38:53.802026Z"
    }
   },
   "outputs": [
    {
     "name": "stdout",
     "output_type": "stream",
     "text": [
      "Prediction (0 = negative, 1 = positive) = 0.47\n"
     ]
    }
   ],
   "source": [
    "review = sequence.pad_sequences([review], maxlen=200)\n",
    "prediction = model.predict(review)\n",
    "print(\"Prediction (0 = negative, 1 = positive) = \", end=\"\")\n",
    "print(\"%0.2f\" % prediction[0][0])"
   ]
  },
  {
   "cell_type": "code",
   "execution_count": null,
   "metadata": {},
   "outputs": [],
   "source": []
  }
 ],
 "metadata": {
  "accelerator": "GPU",
  "colab": {
   "name": "Rotten_Tomatoes_Sentiment_Analysis.ipynb",
   "provenance": [],
   "version": "0.3.2"
  },
  "kernelspec": {
   "display_name": "Python 3",
   "language": "python",
   "name": "python3"
  },
  "language_info": {
   "codemirror_mode": {
    "name": "ipython",
    "version": 3
   },
   "file_extension": ".py",
   "mimetype": "text/x-python",
   "name": "python",
   "nbconvert_exporter": "python",
   "pygments_lexer": "ipython3",
   "version": "3.5.2"
  },
  "varInspector": {
   "cols": {
    "lenName": 16,
    "lenType": 16,
    "lenVar": 40
   },
   "kernels_config": {
    "python": {
     "delete_cmd_postfix": "",
     "delete_cmd_prefix": "del ",
     "library": "var_list.py",
     "varRefreshCmd": "print(var_dic_list())"
    },
    "r": {
     "delete_cmd_postfix": ") ",
     "delete_cmd_prefix": "rm(",
     "library": "var_list.r",
     "varRefreshCmd": "cat(var_dic_list()) "
    }
   },
   "types_to_exclude": [
    "module",
    "function",
    "builtin_function_or_method",
    "instance",
    "_Feature"
   ],
   "window_display": false
  }
 },
 "nbformat": 4,
 "nbformat_minor": 1
}
